{
 "cells": [
  {
   "cell_type": "markdown",
   "metadata": {},
   "source": [
    "# **SastaTicket:** Flight Price Prediction Model"
   ]
  },
  {
   "cell_type": "markdown",
   "metadata": {},
   "source": [
    "---"
   ]
  },
  {
   "cell_type": "markdown",
   "metadata": {},
   "source": [
    "**Participant**\\\n",
    "\n",
    "**Name** : \"Muhammad Talha Munir\"\\\n",
    "**email** : \"mtalhamunir123@gmail.com\"\\\n",
    "**Mobile No** : \"00923115472492\""
   ]
  },
  {
   "cell_type": "markdown",
   "metadata": {},
   "source": [
    "---"
   ]
  },
  {
   "cell_type": "markdown",
   "metadata": {},
   "source": [
    "\n",
    "**Instructions**\n",
    "- Ahmed is a customer of Sastaticket.pk. He is planning to fly from Karachi to Islamabad for his\n",
    "brother’s wedding and is currently in the process of choosing tickets. Ahmed has to go to\n",
    "Islamabad but Ahmed also wants to save some money in the process, so he chooses to wait\n",
    "instead of buy now, simply because ticket prices are just too high.\\\n",
    "- Is this the right decision? Won’t ticket prices increase in the future? Perhaps there is a\n",
    "sweet-spot Ahmed is hoping to find and maybe he just might find it.\\\n",
    "- This is the problem that you will be tackling in this competition. Can you predict future prices\n",
    "accurately to such a degree that you can now tell Ahmed - with confidence - that he has made\n",
    "the wrong decision.\\\n",
    "- Your task boils down to generating optimal predictions for flight prices of multiple airlines. If\n",
    "successful, your model will contribute greatly to Sastaticket’s rich and diverse set of operating\n",
    "algorithms.\n",
    "\n",
    "**Summary**\n",
    "1. Find Cheapest and expenses flights at specific time.\\\n",
    "2. You have to go through EDA(Exploratory Data Analysis) Process.\\\n",
    "3. Apply an appropriate Machine Learning Model.\\\n",
    "4. Find a sweet spot for cheap ticket"
   ]
  },
  {
   "cell_type": "markdown",
   "metadata": {},
   "source": [
    "### **1. Importing Relevant Libraries**"
   ]
  },
  {
   "cell_type": "code",
   "execution_count": 1,
   "metadata": {},
   "outputs": [],
   "source": [
    "# Importing Libraries\n",
    "import pandas as pd\n",
    "from pandas import MultiIndex, Int16Dtype\n",
    "\n",
    "import numpy as np\n",
    "import matplotlib.pyplot as plt\n",
    "import seaborn as sns"
   ]
  },
  {
   "cell_type": "markdown",
   "metadata": {},
   "source": [
    "**Reproductability :** *A good practice to set the seed to reproduce the Same Results*"
   ]
  },
  {
   "cell_type": "code",
   "execution_count": 2,
   "metadata": {},
   "outputs": [],
   "source": [
    "SEED = 10\n",
    "np.random.seed(SEED)"
   ]
  },
  {
   "cell_type": "markdown",
   "metadata": {},
   "source": [
    "### **2. Loading Train and Test Data_Sets**"
   ]
  },
  {
   "cell_type": "code",
   "execution_count": 3,
   "metadata": {},
   "outputs": [],
   "source": [
    "# Loading Data_Sets into Data_Frames\n",
    "df=  pd.read_csv('sastaTicket_train.csv')\n",
    "df1= pd.read_csv('sastaticket_test.csv')"
   ]
  },
  {
   "cell_type": "markdown",
   "metadata": {},
   "source": [
    "**Interpreting Data_Set**"
   ]
  },
  {
   "cell_type": "code",
   "execution_count": 4,
   "metadata": {},
   "outputs": [
    {
     "name": "stdout",
     "output_type": "stream",
     "text": [
      "<class 'pandas.core.frame.DataFrame'>\n",
      "RangeIndex: 5000 entries, 0 to 4999\n",
      "Data columns (total 12 columns):\n",
      " #   Column      Non-Null Count  Dtype  \n",
      "---  ------      --------------  -----  \n",
      " 0   Unnamed: 0  5000 non-null   int64  \n",
      " 1   f1          5000 non-null   object \n",
      " 2   f2          5000 non-null   object \n",
      " 3   f3          5000 non-null   object \n",
      " 4   f4          5000 non-null   object \n",
      " 5   f5          5000 non-null   object \n",
      " 6   f6          5000 non-null   object \n",
      " 7   f7          5000 non-null   bool   \n",
      " 8   f8          5000 non-null   float64\n",
      " 9   f9          5000 non-null   int64  \n",
      " 10  f10         5000 non-null   object \n",
      " 11  target      5000 non-null   float64\n",
      "dtypes: bool(1), float64(2), int64(2), object(7)\n",
      "memory usage: 434.7+ KB\n"
     ]
    }
   ],
   "source": [
    "df.info()"
   ]
  },
  {
   "cell_type": "markdown",
   "metadata": {},
   "source": [
    "***Renaming The Columns for Ease***"
   ]
  },
  {
   "cell_type": "code",
   "execution_count": 5,
   "metadata": {},
   "outputs": [],
   "source": [
    "# Renaming Our Columns\n",
    "df.rename({'f1': 'Buying_Time', 'f2': 'Origin' , 'f3':'Destination', 'f4': 'Depart_Time', 'f5':'Arrival_Time' , 'f6':'Airline',\n",
    "        'f7': 'Ticket_Refunded', 'f8':'Bag_Weight', 'f9':'Bag_Pieces' , 'f10':'Airline_No.','target':'Fare'}\n",
    "         , axis=1, inplace=True)\n",
    "df1.rename({'f1': 'Buying_Time', 'f2': 'Origin' , 'f3':'Destination', 'f4': 'Depart_Time', 'f5':'Arrival_Time' , 'f6':'Airline',\n",
    "        'f7': 'Ticket_Refunded', 'f8':'Bag_Weight', 'f9':'Bag_Pieces' , 'f10':'Airline_No.'}\n",
    "         , axis=1, inplace=True)"
   ]
  },
  {
   "cell_type": "markdown",
   "metadata": {},
   "source": [
    "***Dropping Unnecessary Columns***"
   ]
  },
  {
   "cell_type": "code",
   "execution_count": 6,
   "metadata": {},
   "outputs": [],
   "source": [
    "df.drop(['Origin','Destination','Airline_No.','Unnamed: 0'],axis=1,inplace=True)                                          \n",
    "df1.drop(['Origin','Destination','Airline_No.','Unnamed: 0'],axis=1,inplace=True) "
   ]
  },
  {
   "cell_type": "markdown",
   "metadata": {},
   "source": [
    "### **3. Data Munging**"
   ]
  },
  {
   "cell_type": "markdown",
   "metadata": {},
   "source": [
    "**Type Casting**"
   ]
  },
  {
   "cell_type": "code",
   "execution_count": 7,
   "metadata": {},
   "outputs": [],
   "source": [
    "df[['Arrival_Time','Depart_Time','Buying_Time']] = df[['Arrival_Time',\"Depart_Time\",'Buying_Time']].apply(pd.to_datetime)\n",
    "df1[['Arrival_Time','Depart_Time','Buying_Time']] = df1[['Arrival_Time',\"Depart_Time\",'Buying_Time']].apply(pd.to_datetime)"
   ]
  },
  {
   "cell_type": "markdown",
   "metadata": {},
   "source": [
    "**Feature Engineering**"
   ]
  },
  {
   "cell_type": "code",
   "execution_count": 8,
   "metadata": {},
   "outputs": [],
   "source": [
    "date_format_string= '%Y/%m/%d %.f'\n",
    "\n",
    "\n",
    "f1= pd.to_datetime(df['Buying_Time'], date_format_string)\n",
    "f2= pd.to_datetime(df['Depart_Time'], date_format_string)\n",
    "f3= pd.to_datetime(df['Arrival_Time'], date_format_string)\n",
    "\n",
    "f11= pd.to_datetime(df1['Buying_Time'], date_format_string)\n",
    "f22= pd.to_datetime(df1['Depart_Time'], date_format_string)\n",
    "f33= pd.to_datetime(df1['Arrival_Time'], date_format_string)\n",
    "\n",
    "\n",
    "    # Feature Engineering\n",
    "diff = f2-f1\n",
    "df['Days_to_Depart'] = diff \n",
    "df['Days_to_Depart'] = df['Days_to_Depart'].dt.days.values\n",
    "\n",
    "df['hrs_to_Depart'] = diff \n",
    "df['hrs_to_Depart'] = df['hrs_to_Depart'].dt.components['hours']\n",
    "\n",
    "\n",
    "df['min_to_Depart'] = diff \n",
    "df['min_to_Depart'] = df['min_to_Depart'].dt.components['minutes']\n",
    "\n",
    "\n",
    "\n",
    "    # Feature Engineering\n",
    "diff1 = f22-f11\n",
    "df1['Days_to_Depart'] = diff \n",
    "df1['Days_to_Depart'] = df1['Days_to_Depart'].dt.days.values\n",
    "\n",
    "df1['hrs_to_Depart'] = diff \n",
    "df1['hrs_to_Depart'] = df1['hrs_to_Depart'].dt.components['hours']\n",
    "\n",
    "\n",
    "df1['min_to_Depart'] = diff \n",
    "df1['min_to_Depart'] = df1['min_to_Depart'].dt.components['minutes']\n"
   ]
  },
  {
   "cell_type": "markdown",
   "metadata": {},
   "source": [
    "**Again Dropping unuseful columns**"
   ]
  },
  {
   "cell_type": "code",
   "execution_count": 9,
   "metadata": {},
   "outputs": [],
   "source": [
    "df.drop(['Buying_Time','Depart_Time','Arrival_Time'],axis=1,inplace=True)      # Again Removing Unnecssary Columns\n",
    "df1.drop(['Buying_Time','Depart_Time','Arrival_Time','hrs_to_Depart','min_to_Depart'],axis=1,inplace=True)"
   ]
  },
  {
   "cell_type": "markdown",
   "metadata": {},
   "source": [
    "### **4. Doing Statistical Analysis**"
   ]
  },
  {
   "cell_type": "markdown",
   "metadata": {},
   "source": [
    "**Checking Missing Values**"
   ]
  },
  {
   "cell_type": "code",
   "execution_count": 10,
   "metadata": {},
   "outputs": [
    {
     "data": {
      "text/plain": [
       "Airline            0\n",
       "Ticket_Refunded    0\n",
       "Bag_Weight         0\n",
       "Bag_Pieces         0\n",
       "Fare               0\n",
       "Days_to_Depart     0\n",
       "hrs_to_Depart      0\n",
       "min_to_Depart      0\n",
       "dtype: int64"
      ]
     },
     "execution_count": 10,
     "metadata": {},
     "output_type": "execute_result"
    }
   ],
   "source": [
    "df.isnull().sum()"
   ]
  },
  {
   "cell_type": "code",
   "execution_count": 11,
   "metadata": {},
   "outputs": [
    {
     "data": {
      "text/html": [
       "<div>\n",
       "<style scoped>\n",
       "    .dataframe tbody tr th:only-of-type {\n",
       "        vertical-align: middle;\n",
       "    }\n",
       "\n",
       "    .dataframe tbody tr th {\n",
       "        vertical-align: top;\n",
       "    }\n",
       "\n",
       "    .dataframe thead th {\n",
       "        text-align: right;\n",
       "    }\n",
       "</style>\n",
       "<table border=\"1\" class=\"dataframe\">\n",
       "  <thead>\n",
       "    <tr style=\"text-align: right;\">\n",
       "      <th></th>\n",
       "      <th>Airline</th>\n",
       "      <th>Ticket_Refunded</th>\n",
       "      <th>Bag_Weight</th>\n",
       "      <th>Bag_Pieces</th>\n",
       "      <th>Fare</th>\n",
       "      <th>Days_to_Depart</th>\n",
       "      <th>hrs_to_Depart</th>\n",
       "      <th>min_to_Depart</th>\n",
       "    </tr>\n",
       "  </thead>\n",
       "  <tbody>\n",
       "    <tr>\n",
       "      <th>count</th>\n",
       "      <td>5000</td>\n",
       "      <td>5000</td>\n",
       "      <td>5000.000000</td>\n",
       "      <td>5000.000000</td>\n",
       "      <td>5000.000000</td>\n",
       "      <td>5000.000000</td>\n",
       "      <td>5000.00000</td>\n",
       "      <td>5000.000000</td>\n",
       "    </tr>\n",
       "    <tr>\n",
       "      <th>unique</th>\n",
       "      <td>4</td>\n",
       "      <td>2</td>\n",
       "      <td>NaN</td>\n",
       "      <td>NaN</td>\n",
       "      <td>NaN</td>\n",
       "      <td>NaN</td>\n",
       "      <td>NaN</td>\n",
       "      <td>NaN</td>\n",
       "    </tr>\n",
       "    <tr>\n",
       "      <th>top</th>\n",
       "      <td>alpha</td>\n",
       "      <td>True</td>\n",
       "      <td>NaN</td>\n",
       "      <td>NaN</td>\n",
       "      <td>NaN</td>\n",
       "      <td>NaN</td>\n",
       "      <td>NaN</td>\n",
       "      <td>NaN</td>\n",
       "    </tr>\n",
       "    <tr>\n",
       "      <th>freq</th>\n",
       "      <td>2211</td>\n",
       "      <td>4968</td>\n",
       "      <td>NaN</td>\n",
       "      <td>NaN</td>\n",
       "      <td>NaN</td>\n",
       "      <td>NaN</td>\n",
       "      <td>NaN</td>\n",
       "      <td>NaN</td>\n",
       "    </tr>\n",
       "    <tr>\n",
       "      <th>mean</th>\n",
       "      <td>NaN</td>\n",
       "      <td>NaN</td>\n",
       "      <td>22.727400</td>\n",
       "      <td>0.944000</td>\n",
       "      <td>10084.847000</td>\n",
       "      <td>14.971600</td>\n",
       "      <td>11.84600</td>\n",
       "      <td>29.700000</td>\n",
       "    </tr>\n",
       "    <tr>\n",
       "      <th>std</th>\n",
       "      <td>NaN</td>\n",
       "      <td>NaN</td>\n",
       "      <td>8.902075</td>\n",
       "      <td>0.606084</td>\n",
       "      <td>3374.189875</td>\n",
       "      <td>18.918498</td>\n",
       "      <td>7.27294</td>\n",
       "      <td>17.462812</td>\n",
       "    </tr>\n",
       "    <tr>\n",
       "      <th>min</th>\n",
       "      <td>NaN</td>\n",
       "      <td>NaN</td>\n",
       "      <td>0.000000</td>\n",
       "      <td>0.000000</td>\n",
       "      <td>4990.000000</td>\n",
       "      <td>0.000000</td>\n",
       "      <td>0.00000</td>\n",
       "      <td>0.000000</td>\n",
       "    </tr>\n",
       "    <tr>\n",
       "      <th>25%</th>\n",
       "      <td>NaN</td>\n",
       "      <td>NaN</td>\n",
       "      <td>20.000000</td>\n",
       "      <td>1.000000</td>\n",
       "      <td>7796.000000</td>\n",
       "      <td>4.000000</td>\n",
       "      <td>5.00000</td>\n",
       "      <td>14.000000</td>\n",
       "    </tr>\n",
       "    <tr>\n",
       "      <th>50%</th>\n",
       "      <td>NaN</td>\n",
       "      <td>NaN</td>\n",
       "      <td>20.000000</td>\n",
       "      <td>1.000000</td>\n",
       "      <td>9150.000000</td>\n",
       "      <td>10.000000</td>\n",
       "      <td>12.00000</td>\n",
       "      <td>30.000000</td>\n",
       "    </tr>\n",
       "    <tr>\n",
       "      <th>75%</th>\n",
       "      <td>NaN</td>\n",
       "      <td>NaN</td>\n",
       "      <td>32.000000</td>\n",
       "      <td>1.000000</td>\n",
       "      <td>11245.000000</td>\n",
       "      <td>19.000000</td>\n",
       "      <td>18.00000</td>\n",
       "      <td>45.000000</td>\n",
       "    </tr>\n",
       "    <tr>\n",
       "      <th>max</th>\n",
       "      <td>NaN</td>\n",
       "      <td>NaN</td>\n",
       "      <td>45.000000</td>\n",
       "      <td>2.000000</td>\n",
       "      <td>35000.000000</td>\n",
       "      <td>243.000000</td>\n",
       "      <td>23.00000</td>\n",
       "      <td>59.000000</td>\n",
       "    </tr>\n",
       "  </tbody>\n",
       "</table>\n",
       "</div>"
      ],
      "text/plain": [
       "       Airline Ticket_Refunded   Bag_Weight   Bag_Pieces          Fare  \\\n",
       "count     5000            5000  5000.000000  5000.000000   5000.000000   \n",
       "unique       4               2          NaN          NaN           NaN   \n",
       "top      alpha            True          NaN          NaN           NaN   \n",
       "freq      2211            4968          NaN          NaN           NaN   \n",
       "mean       NaN             NaN    22.727400     0.944000  10084.847000   \n",
       "std        NaN             NaN     8.902075     0.606084   3374.189875   \n",
       "min        NaN             NaN     0.000000     0.000000   4990.000000   \n",
       "25%        NaN             NaN    20.000000     1.000000   7796.000000   \n",
       "50%        NaN             NaN    20.000000     1.000000   9150.000000   \n",
       "75%        NaN             NaN    32.000000     1.000000  11245.000000   \n",
       "max        NaN             NaN    45.000000     2.000000  35000.000000   \n",
       "\n",
       "        Days_to_Depart  hrs_to_Depart  min_to_Depart  \n",
       "count      5000.000000     5000.00000    5000.000000  \n",
       "unique             NaN            NaN            NaN  \n",
       "top                NaN            NaN            NaN  \n",
       "freq               NaN            NaN            NaN  \n",
       "mean         14.971600       11.84600      29.700000  \n",
       "std          18.918498        7.27294      17.462812  \n",
       "min           0.000000        0.00000       0.000000  \n",
       "25%           4.000000        5.00000      14.000000  \n",
       "50%          10.000000       12.00000      30.000000  \n",
       "75%          19.000000       18.00000      45.000000  \n",
       "max         243.000000       23.00000      59.000000  "
      ]
     },
     "execution_count": 11,
     "metadata": {},
     "output_type": "execute_result"
    }
   ],
   "source": [
    "df.describe(include='all')"
   ]
  },
  {
   "cell_type": "markdown",
   "metadata": {},
   "source": [
    "**Dropping Duplicate Values**"
   ]
  },
  {
   "cell_type": "code",
   "execution_count": 12,
   "metadata": {},
   "outputs": [],
   "source": [
    "df.drop_duplicates(keep=False,inplace=True)"
   ]
  },
  {
   "cell_type": "markdown",
   "metadata": {},
   "source": [
    "***Making list of Categorical Column and Numerical Ones**"
   ]
  },
  {
   "cell_type": "code",
   "execution_count": 13,
   "metadata": {},
   "outputs": [],
   "source": [
    "cat_cols= ['Airline','Ticket_Refunded','Bag_Weight','Bag_Pieces']\n",
    "num_cols= ['Days_to_Depart','hrs_to_Depart','min_to_Depart']"
   ]
  },
  {
   "cell_type": "markdown",
   "metadata": {},
   "source": [
    "### **5. PLOTTING and VISUALIZATION**"
   ]
  },
  {
   "cell_type": "markdown",
   "metadata": {},
   "source": [
    "**Count Plot**"
   ]
  },
  {
   "cell_type": "code",
   "execution_count": 14,
   "metadata": {},
   "outputs": [
    {
     "name": "stderr",
     "output_type": "stream",
     "text": [
      "c:\\Users\\DELL\\AppData\\Local\\Programs\\Python\\Python310\\lib\\site-packages\\seaborn\\_decorators.py:36: FutureWarning: Pass the following variable as a keyword arg: x. From version 0.12, the only valid positional argument will be `data`, and passing other arguments without an explicit keyword will result in an error or misinterpretation.\n",
      "  warnings.warn(\n",
      "c:\\Users\\DELL\\AppData\\Local\\Programs\\Python\\Python310\\lib\\site-packages\\seaborn\\_decorators.py:36: FutureWarning: Pass the following variable as a keyword arg: x. From version 0.12, the only valid positional argument will be `data`, and passing other arguments without an explicit keyword will result in an error or misinterpretation.\n",
      "  warnings.warn(\n",
      "c:\\Users\\DELL\\AppData\\Local\\Programs\\Python\\Python310\\lib\\site-packages\\seaborn\\_decorators.py:36: FutureWarning: Pass the following variable as a keyword arg: x. From version 0.12, the only valid positional argument will be `data`, and passing other arguments without an explicit keyword will result in an error or misinterpretation.\n",
      "  warnings.warn(\n",
      "c:\\Users\\DELL\\AppData\\Local\\Programs\\Python\\Python310\\lib\\site-packages\\seaborn\\_decorators.py:36: FutureWarning: Pass the following variable as a keyword arg: x. From version 0.12, the only valid positional argument will be `data`, and passing other arguments without an explicit keyword will result in an error or misinterpretation.\n",
      "  warnings.warn(\n"
     ]
    },
    {
     "data": {
      "image/png": "[encoded data removed]",
      "text/plain": [
       "<Figure size 720x2160 with 4 Axes>"
      ]
     },
     "metadata": {
      "needs_background": "light"
     },
     "output_type": "display_data"
    }
   ],
   "source": [
    "# Categorical Count Plotting\n",
    "plt.figure (figsize=(10,30))                        \n",
    "c=1\n",
    "for i in cat_cols:\n",
    "    plt.subplot(6,2,c)\n",
    "    sns.countplot(df[i])                \n",
    "    c=c+1\n",
    "plt.show()\n"
   ]
  },
  {
   "cell_type": "markdown",
   "metadata": {},
   "source": [
    "Results:\\\n",
    "    1. **Alpha** has higher number of flights\\\n",
    "    2. Mostly Tickets are Refund-able\\\n",
    "    3. Most Passengers have 2 piece of Bag and the avg weight is 20."
   ]
  },
  {
   "cell_type": "markdown",
   "metadata": {},
   "source": [
    "**Dist Plot**"
   ]
  },
  {
   "cell_type": "code",
   "execution_count": 15,
   "metadata": {},
   "outputs": [
    {
     "data": {
      "text/plain": [
       "<Figure size 720x576 with 0 Axes>"
      ]
     },
     "metadata": {},
     "output_type": "display_data"
    },
    {
     "data": {
      "image/png": "[encoded data removed]",
      "text/plain": [
       "<Figure size 433.875x360 with 1 Axes>"
      ]
     },
     "metadata": {
      "needs_background": "light"
     },
     "output_type": "display_data"
    },
    {
     "data": {
      "image/png": "[encoded data removed]",
      "text/plain": [
       "<Figure size 433.875x360 with 1 Axes>"
      ]
     },
     "metadata": {
      "needs_background": "light"
     },
     "output_type": "display_data"
    },
    {
     "data": {
      "image/png": "[encoded data removed]",
      "text/plain": [
       "<Figure size 433.875x360 with 1 Axes>"
      ]
     },
     "metadata": {
      "needs_background": "light"
     },
     "output_type": "display_data"
    }
   ],
   "source": [
    "# plotting numerical data\n",
    "c=1\n",
    "plt.figure(figsize=(10,8))\n",
    "for i in num_cols:\n",
    "    sns.displot(df,\n",
    "        x=df[i],\n",
    "        hue=\"Airline\",\n",
    "        kind=\"kde\",\n",
    "        warn_singular=False)\n",
    "    plt.xticks(rotation=45)\n",
    "plt.show()"
   ]
  },
  {
   "cell_type": "code",
   "execution_count": 16,
   "metadata": {},
   "outputs": [
    {
     "name": "stderr",
     "output_type": "stream",
     "text": [
      "c:\\Users\\DELL\\AppData\\Local\\Programs\\Python\\Python310\\lib\\site-packages\\seaborn\\distributions.py:2619: FutureWarning: `distplot` is a deprecated function and will be removed in a future version. Please adapt your code to use either `displot` (a figure-level function with similar flexibility) or `histplot` (an axes-level function for histograms).\n",
      "  warnings.warn(msg, FutureWarning)\n"
     ]
    },
    {
     "data": {
      "text/plain": [
       "<AxesSubplot:xlabel='Fare', ylabel='Density'>"
      ]
     },
     "execution_count": 16,
     "metadata": {},
     "output_type": "execute_result"
    },
    {
     "data": {
      "image/png": "[encoded data removed]",
      "text/plain": [
       "<Figure size 432x288 with 1 Axes>"
      ]
     },
     "metadata": {
      "needs_background": "light"
     },
     "output_type": "display_data"
    }
   ],
   "source": [
    "sns.distplot(df['Fare'])"
   ]
  },
  {
   "cell_type": "markdown",
   "metadata": {},
   "source": [
    "**Result:** *Looks Right Skewed.*"
   ]
  },
  {
   "cell_type": "markdown",
   "metadata": {},
   "source": [
    "### **6. Normalization Test**"
   ]
  },
  {
   "cell_type": "code",
   "execution_count": 18,
   "metadata": {},
   "outputs": [
    {
     "name": "stdout",
     "output_type": "stream",
     "text": [
      "stat = 0.823 , p-value=0.000\n",
      "H0: Probably NO Gaussian or Normal distribution\n"
     ]
    }
   ],
   "source": [
    "# Importing Library\n",
    "from scipy.stats import shapiro\n",
    "\n",
    "stat, p = shapiro(df['Fare'])\n",
    "\n",
    "print (\"stat = %.3f , p-value=%.3f\" %(stat,p))\n",
    "\n",
    "if p > 0.05:\n",
    "    print('H1: Probably Gaussian or Normal distribution')\n",
    "else:\n",
    "    print('H0: Probably NO Gaussian or Normal distribution')"
   ]
  },
  {
   "cell_type": "markdown",
   "metadata": {},
   "source": [
    "#### **Normalizing The Data**"
   ]
  },
  {
   "cell_type": "code",
   "execution_count": 19,
   "metadata": {},
   "outputs": [
    {
     "data": {
      "text/html": [
       "<div>\n",
       "<style scoped>\n",
       "    .dataframe tbody tr th:only-of-type {\n",
       "        vertical-align: middle;\n",
       "    }\n",
       "\n",
       "    .dataframe tbody tr th {\n",
       "        vertical-align: top;\n",
       "    }\n",
       "\n",
       "    .dataframe thead th {\n",
       "        text-align: right;\n",
       "    }\n",
       "</style>\n",
       "<table border=\"1\" class=\"dataframe\">\n",
       "  <thead>\n",
       "    <tr style=\"text-align: right;\">\n",
       "      <th></th>\n",
       "      <th>Airline</th>\n",
       "      <th>Ticket_Refunded</th>\n",
       "      <th>Bag_Weight</th>\n",
       "      <th>Bag_Pieces</th>\n",
       "      <th>Fare</th>\n",
       "      <th>Days_to_Depart</th>\n",
       "      <th>hrs_to_Depart</th>\n",
       "      <th>min_to_Depart</th>\n",
       "    </tr>\n",
       "  </thead>\n",
       "  <tbody>\n",
       "    <tr>\n",
       "      <th>0</th>\n",
       "      <td>alpha</td>\n",
       "      <td>True</td>\n",
       "      <td>35.0</td>\n",
       "      <td>1</td>\n",
       "      <td>9.591854</td>\n",
       "      <td>8</td>\n",
       "      <td>1</td>\n",
       "      <td>7</td>\n",
       "    </tr>\n",
       "    <tr>\n",
       "      <th>1</th>\n",
       "      <td>alpha</td>\n",
       "      <td>True</td>\n",
       "      <td>35.0</td>\n",
       "      <td>1</td>\n",
       "      <td>9.180603</td>\n",
       "      <td>11</td>\n",
       "      <td>20</td>\n",
       "      <td>48</td>\n",
       "    </tr>\n",
       "    <tr>\n",
       "      <th>2</th>\n",
       "      <td>beta</td>\n",
       "      <td>True</td>\n",
       "      <td>20.0</td>\n",
       "      <td>0</td>\n",
       "      <td>8.814925</td>\n",
       "      <td>17</td>\n",
       "      <td>21</td>\n",
       "      <td>7</td>\n",
       "    </tr>\n",
       "    <tr>\n",
       "      <th>3</th>\n",
       "      <td>gamma</td>\n",
       "      <td>True</td>\n",
       "      <td>20.0</td>\n",
       "      <td>1</td>\n",
       "      <td>9.354008</td>\n",
       "      <td>21</td>\n",
       "      <td>5</td>\n",
       "      <td>53</td>\n",
       "    </tr>\n",
       "    <tr>\n",
       "      <th>4</th>\n",
       "      <td>gamma</td>\n",
       "      <td>True</td>\n",
       "      <td>32.0</td>\n",
       "      <td>1</td>\n",
       "      <td>9.175231</td>\n",
       "      <td>1</td>\n",
       "      <td>1</td>\n",
       "      <td>21</td>\n",
       "    </tr>\n",
       "  </tbody>\n",
       "</table>\n",
       "</div>"
      ],
      "text/plain": [
       "  Airline  Ticket_Refunded  Bag_Weight  Bag_Pieces      Fare  Days_to_Depart  \\\n",
       "0   alpha             True        35.0           1  9.591854               8   \n",
       "1   alpha             True        35.0           1  9.180603              11   \n",
       "2    beta             True        20.0           0  8.814925              17   \n",
       "3   gamma             True        20.0           1  9.354008              21   \n",
       "4   gamma             True        32.0           1  9.175231               1   \n",
       "\n",
       "   hrs_to_Depart  min_to_Depart  \n",
       "0              1              7  \n",
       "1             20             48  \n",
       "2             21              7  \n",
       "3              5             53  \n",
       "4              1             21  "
      ]
     },
     "execution_count": 19,
     "metadata": {},
     "output_type": "execute_result"
    }
   ],
   "source": [
    "df['Fare']=np.log(df['Fare'])\n",
    "\n",
    "# df['Days_to_Depart'] = (df['Days_to_Depart']-df['Days_to_Depart'].mean()) / df['Days_to_Depart'].std()\n",
    "# df['hrs_to_Depart']=    (df['hrs_to_Depart']-df['hrs_to_Depart'].mean()) / df['hrs_to_Depart'].std()\n",
    "# df['Bag_Weight']=   (df['Bag_Weight']-df['Bag_Weight'].mean()) / df['Bag_Weight'].std()\n",
    "# df['Fare'] = (df['Fare']-df['Fare'].mean()) / df['Fare'].std()\n",
    "# df['min_to_Depart']= (df['min_to_Depart']-df['min_to_Depart'].mean()) / df['min_to_Depart'].std()\n",
    "df.head(5)"
   ]
  },
  {
   "cell_type": "markdown",
   "metadata": {},
   "source": [
    "### **7. Checking Outliers and removing them on percentage basis**"
   ]
  },
  {
   "cell_type": "code",
   "execution_count": 20,
   "metadata": {},
   "outputs": [
    {
     "name": "stderr",
     "output_type": "stream",
     "text": [
      "c:\\Users\\DELL\\AppData\\Local\\Programs\\Python\\Python310\\lib\\site-packages\\seaborn\\_decorators.py:36: FutureWarning: Pass the following variable as a keyword arg: x. From version 0.12, the only valid positional argument will be `data`, and passing other arguments without an explicit keyword will result in an error or misinterpretation.\n",
      "  warnings.warn(\n"
     ]
    },
    {
     "data": {
      "text/plain": [
       "<AxesSubplot:xlabel='Days_to_Depart'>"
      ]
     },
     "execution_count": 20,
     "metadata": {},
     "output_type": "execute_result"
    },
    {
     "data": {
      "image/png": "[encoded data removed]",
      "text/plain": [
       "<Figure size 432x288 with 1 Axes>"
      ]
     },
     "metadata": {
      "needs_background": "light"
     },
     "output_type": "display_data"
    }
   ],
   "source": [
    "sns.boxplot(df['Days_to_Depart'])"
   ]
  },
  {
   "cell_type": "code",
   "execution_count": 21,
   "metadata": {},
   "outputs": [],
   "source": [
    "df = df[df['Days_to_Depart'] < 60]              # Removing Days to depart a Flight as there less numbers that buy tickets way before the flight Depart"
   ]
  },
  {
   "cell_type": "code",
   "execution_count": 22,
   "metadata": {},
   "outputs": [
    {
     "name": "stderr",
     "output_type": "stream",
     "text": [
      "c:\\Users\\DELL\\AppData\\Local\\Programs\\Python\\Python310\\lib\\site-packages\\seaborn\\_decorators.py:36: FutureWarning: Pass the following variable as a keyword arg: x. From version 0.12, the only valid positional argument will be `data`, and passing other arguments without an explicit keyword will result in an error or misinterpretation.\n",
      "  warnings.warn(\n"
     ]
    },
    {
     "data": {
      "text/plain": [
       "<AxesSubplot:xlabel='Days_to_Depart'>"
      ]
     },
     "execution_count": 22,
     "metadata": {},
     "output_type": "execute_result"
    },
    {
     "data": {
      "image/png": "[encoded data removed]",
      "text/plain": [
       "<Figure size 432x288 with 1 Axes>"
      ]
     },
     "metadata": {
      "needs_background": "light"
     },
     "output_type": "display_data"
    }
   ],
   "source": [
    "sns.boxplot(df['Days_to_Depart'])"
   ]
  },
  {
   "cell_type": "code",
   "execution_count": 23,
   "metadata": {},
   "outputs": [
    {
     "name": "stderr",
     "output_type": "stream",
     "text": [
      "c:\\Users\\DELL\\AppData\\Local\\Programs\\Python\\Python310\\lib\\site-packages\\seaborn\\_decorators.py:36: FutureWarning: Pass the following variable as a keyword arg: x. From version 0.12, the only valid positional argument will be `data`, and passing other arguments without an explicit keyword will result in an error or misinterpretation.\n",
      "  warnings.warn(\n"
     ]
    },
    {
     "data": {
      "text/plain": [
       "<AxesSubplot:xlabel='Fare'>"
      ]
     },
     "execution_count": 23,
     "metadata": {},
     "output_type": "execute_result"
    },
    {
     "data": {
      "image/png": "[encoded data removed]",
      "text/plain": [
       "<Figure size 432x288 with 1 Axes>"
      ]
     },
     "metadata": {
      "needs_background": "light"
     },
     "output_type": "display_data"
    }
   ],
   "source": [
    "sns.boxplot(df['Fare'])"
   ]
  },
  {
   "cell_type": "code",
   "execution_count": 24,
   "metadata": {},
   "outputs": [
    {
     "name": "stderr",
     "output_type": "stream",
     "text": [
      "c:\\Users\\DELL\\AppData\\Local\\Programs\\Python\\Python310\\lib\\site-packages\\seaborn\\_decorators.py:36: FutureWarning: Pass the following variable as a keyword arg: x. From version 0.12, the only valid positional argument will be `data`, and passing other arguments without an explicit keyword will result in an error or misinterpretation.\n",
      "  warnings.warn(\n"
     ]
    },
    {
     "data": {
      "text/plain": [
       "<AxesSubplot:xlabel='Bag_Weight'>"
      ]
     },
     "execution_count": 24,
     "metadata": {},
     "output_type": "execute_result"
    },
    {
     "data": {
      "image/png": "[encoded data removed]",
      "text/plain": [
       "<Figure size 432x288 with 1 Axes>"
      ]
     },
     "metadata": {
      "needs_background": "light"
     },
     "output_type": "display_data"
    }
   ],
   "source": [
    "sns.boxplot(df['Bag_Weight'])"
   ]
  },
  {
   "cell_type": "markdown",
   "metadata": {},
   "source": [
    "*Since Data isn't normal we can check the coorelation as well.*"
   ]
  },
  {
   "cell_type": "code",
   "execution_count": 25,
   "metadata": {},
   "outputs": [
    {
     "data": {
      "text/html": [
       "<style type=\"text/css\">\n",
       "#T_0d0d3_row0_col0, #T_0d0d3_row1_col1, #T_0d0d3_row2_col2, #T_0d0d3_row3_col3, #T_0d0d3_row4_col4, #T_0d0d3_row5_col5, #T_0d0d3_row6_col6 {\n",
       "  background-color: #666666;\n",
       "  color: #f1f1f1;\n",
       "}\n",
       "#T_0d0d3_row0_col1, #T_0d0d3_row0_col2, #T_0d0d3_row0_col3, #T_0d0d3_row0_col4, #T_0d0d3_row1_col4, #T_0d0d3_row2_col0, #T_0d0d3_row2_col4, #T_0d0d3_row4_col1, #T_0d0d3_row4_col2, #T_0d0d3_row5_col1, #T_0d0d3_row5_col3, #T_0d0d3_row5_col4, #T_0d0d3_row6_col1, #T_0d0d3_row6_col2, #T_0d0d3_row6_col3, #T_0d0d3_row6_col4 {\n",
       "  background-color: #beaed4;\n",
       "  color: #000000;\n",
       "}\n",
       "#T_0d0d3_row0_col5, #T_0d0d3_row0_col6, #T_0d0d3_row1_col0, #T_0d0d3_row1_col2, #T_0d0d3_row1_col5, #T_0d0d3_row1_col6, #T_0d0d3_row2_col1, #T_0d0d3_row2_col5, #T_0d0d3_row2_col6, #T_0d0d3_row3_col0, #T_0d0d3_row3_col4, #T_0d0d3_row3_col5, #T_0d0d3_row3_col6, #T_0d0d3_row4_col0, #T_0d0d3_row4_col3, #T_0d0d3_row4_col5, #T_0d0d3_row4_col6, #T_0d0d3_row5_col0, #T_0d0d3_row5_col2, #T_0d0d3_row5_col6, #T_0d0d3_row6_col0, #T_0d0d3_row6_col5 {\n",
       "  background-color: #7fc97f;\n",
       "  color: #000000;\n",
       "}\n",
       "#T_0d0d3_row1_col3, #T_0d0d3_row2_col3, #T_0d0d3_row3_col1, #T_0d0d3_row3_col2 {\n",
       "  background-color: #fdc086;\n",
       "  color: #000000;\n",
       "}\n",
       "</style>\n",
       "<table id=\"T_0d0d3\">\n",
       "  <thead>\n",
       "    <tr>\n",
       "      <th class=\"blank level0\" >&nbsp;</th>\n",
       "      <th id=\"T_0d0d3_level0_col0\" class=\"col_heading level0 col0\" >Ticket_Refunded</th>\n",
       "      <th id=\"T_0d0d3_level0_col1\" class=\"col_heading level0 col1\" >Bag_Weight</th>\n",
       "      <th id=\"T_0d0d3_level0_col2\" class=\"col_heading level0 col2\" >Bag_Pieces</th>\n",
       "      <th id=\"T_0d0d3_level0_col3\" class=\"col_heading level0 col3\" >Fare</th>\n",
       "      <th id=\"T_0d0d3_level0_col4\" class=\"col_heading level0 col4\" >Days_to_Depart</th>\n",
       "      <th id=\"T_0d0d3_level0_col5\" class=\"col_heading level0 col5\" >hrs_to_Depart</th>\n",
       "      <th id=\"T_0d0d3_level0_col6\" class=\"col_heading level0 col6\" >min_to_Depart</th>\n",
       "    </tr>\n",
       "  </thead>\n",
       "  <tbody>\n",
       "    <tr>\n",
       "      <th id=\"T_0d0d3_level0_row0\" class=\"row_heading level0 row0\" >Ticket_Refunded</th>\n",
       "      <td id=\"T_0d0d3_row0_col0\" class=\"data row0 col0\" >1.000000</td>\n",
       "      <td id=\"T_0d0d3_row0_col1\" class=\"data row0 col1\" >-0.009647</td>\n",
       "      <td id=\"T_0d0d3_row0_col2\" class=\"data row0 col2\" >0.126914</td>\n",
       "      <td id=\"T_0d0d3_row0_col3\" class=\"data row0 col3\" >0.008074</td>\n",
       "      <td id=\"T_0d0d3_row0_col4\" class=\"data row0 col4\" >0.001422</td>\n",
       "      <td id=\"T_0d0d3_row0_col5\" class=\"data row0 col5\" >0.007402</td>\n",
       "      <td id=\"T_0d0d3_row0_col6\" class=\"data row0 col6\" >0.004935</td>\n",
       "    </tr>\n",
       "    <tr>\n",
       "      <th id=\"T_0d0d3_level0_row1\" class=\"row_heading level0 row1\" >Bag_Weight</th>\n",
       "      <td id=\"T_0d0d3_row1_col0\" class=\"data row1 col0\" >-0.009647</td>\n",
       "      <td id=\"T_0d0d3_row1_col1\" class=\"data row1 col1\" >1.000000</td>\n",
       "      <td id=\"T_0d0d3_row1_col2\" class=\"data row1 col2\" >-0.158667</td>\n",
       "      <td id=\"T_0d0d3_row1_col3\" class=\"data row1 col3\" >0.204827</td>\n",
       "      <td id=\"T_0d0d3_row1_col4\" class=\"data row1 col4\" >-0.012509</td>\n",
       "      <td id=\"T_0d0d3_row1_col5\" class=\"data row1 col5\" >0.013716</td>\n",
       "      <td id=\"T_0d0d3_row1_col6\" class=\"data row1 col6\" >0.009111</td>\n",
       "    </tr>\n",
       "    <tr>\n",
       "      <th id=\"T_0d0d3_level0_row2\" class=\"row_heading level0 row2\" >Bag_Pieces</th>\n",
       "      <td id=\"T_0d0d3_row2_col0\" class=\"data row2 col0\" >0.126914</td>\n",
       "      <td id=\"T_0d0d3_row2_col1\" class=\"data row2 col1\" >-0.158667</td>\n",
       "      <td id=\"T_0d0d3_row2_col2\" class=\"data row2 col2\" >1.000000</td>\n",
       "      <td id=\"T_0d0d3_row2_col3\" class=\"data row2 col3\" >0.171350</td>\n",
       "      <td id=\"T_0d0d3_row2_col4\" class=\"data row2 col4\" >0.000111</td>\n",
       "      <td id=\"T_0d0d3_row2_col5\" class=\"data row2 col5\" >-0.043049</td>\n",
       "      <td id=\"T_0d0d3_row2_col6\" class=\"data row2 col6\" >0.002921</td>\n",
       "    </tr>\n",
       "    <tr>\n",
       "      <th id=\"T_0d0d3_level0_row3\" class=\"row_heading level0 row3\" >Fare</th>\n",
       "      <td id=\"T_0d0d3_row3_col0\" class=\"data row3 col0\" >0.008074</td>\n",
       "      <td id=\"T_0d0d3_row3_col1\" class=\"data row3 col1\" >0.204827</td>\n",
       "      <td id=\"T_0d0d3_row3_col2\" class=\"data row3 col2\" >0.171350</td>\n",
       "      <td id=\"T_0d0d3_row3_col3\" class=\"data row3 col3\" >1.000000</td>\n",
       "      <td id=\"T_0d0d3_row3_col4\" class=\"data row3 col4\" >-0.201484</td>\n",
       "      <td id=\"T_0d0d3_row3_col5\" class=\"data row3 col5\" >-0.020851</td>\n",
       "      <td id=\"T_0d0d3_row3_col6\" class=\"data row3 col6\" >-0.006717</td>\n",
       "    </tr>\n",
       "    <tr>\n",
       "      <th id=\"T_0d0d3_level0_row4\" class=\"row_heading level0 row4\" >Days_to_Depart</th>\n",
       "      <td id=\"T_0d0d3_row4_col0\" class=\"data row4 col0\" >0.001422</td>\n",
       "      <td id=\"T_0d0d3_row4_col1\" class=\"data row4 col1\" >-0.012509</td>\n",
       "      <td id=\"T_0d0d3_row4_col2\" class=\"data row4 col2\" >0.000111</td>\n",
       "      <td id=\"T_0d0d3_row4_col3\" class=\"data row4 col3\" >-0.201484</td>\n",
       "      <td id=\"T_0d0d3_row4_col4\" class=\"data row4 col4\" >1.000000</td>\n",
       "      <td id=\"T_0d0d3_row4_col5\" class=\"data row4 col5\" >-0.001151</td>\n",
       "      <td id=\"T_0d0d3_row4_col6\" class=\"data row4 col6\" >0.010868</td>\n",
       "    </tr>\n",
       "    <tr>\n",
       "      <th id=\"T_0d0d3_level0_row5\" class=\"row_heading level0 row5\" >hrs_to_Depart</th>\n",
       "      <td id=\"T_0d0d3_row5_col0\" class=\"data row5 col0\" >0.007402</td>\n",
       "      <td id=\"T_0d0d3_row5_col1\" class=\"data row5 col1\" >0.013716</td>\n",
       "      <td id=\"T_0d0d3_row5_col2\" class=\"data row5 col2\" >-0.043049</td>\n",
       "      <td id=\"T_0d0d3_row5_col3\" class=\"data row5 col3\" >-0.020851</td>\n",
       "      <td id=\"T_0d0d3_row5_col4\" class=\"data row5 col4\" >-0.001151</td>\n",
       "      <td id=\"T_0d0d3_row5_col5\" class=\"data row5 col5\" >1.000000</td>\n",
       "      <td id=\"T_0d0d3_row5_col6\" class=\"data row5 col6\" >0.002559</td>\n",
       "    </tr>\n",
       "    <tr>\n",
       "      <th id=\"T_0d0d3_level0_row6\" class=\"row_heading level0 row6\" >min_to_Depart</th>\n",
       "      <td id=\"T_0d0d3_row6_col0\" class=\"data row6 col0\" >0.004935</td>\n",
       "      <td id=\"T_0d0d3_row6_col1\" class=\"data row6 col1\" >0.009111</td>\n",
       "      <td id=\"T_0d0d3_row6_col2\" class=\"data row6 col2\" >0.002921</td>\n",
       "      <td id=\"T_0d0d3_row6_col3\" class=\"data row6 col3\" >-0.006717</td>\n",
       "      <td id=\"T_0d0d3_row6_col4\" class=\"data row6 col4\" >0.010868</td>\n",
       "      <td id=\"T_0d0d3_row6_col5\" class=\"data row6 col5\" >0.002559</td>\n",
       "      <td id=\"T_0d0d3_row6_col6\" class=\"data row6 col6\" >1.000000</td>\n",
       "    </tr>\n",
       "  </tbody>\n",
       "</table>\n"
      ],
      "text/plain": [
       "<pandas.io.formats.style.Styler at 0x2120a8cbf40>"
      ]
     },
     "execution_count": 25,
     "metadata": {},
     "output_type": "execute_result"
    }
   ],
   "source": [
    "corr= df.corr(method='pearson')   # Correlation range from 1 to -1\n",
    "corr.style.background_gradient(cmap='Accent')"
   ]
  },
  {
   "cell_type": "markdown",
   "metadata": {},
   "source": [
    "**Result:** *Fare has slight Corelation between Bag_weight,Pieces,Days_to_Depart.* "
   ]
  },
  {
   "cell_type": "code",
   "execution_count": 26,
   "metadata": {},
   "outputs": [
    {
     "data": {
      "text/plain": [
       "<AxesSubplot:xlabel='Airline', ylabel='Fare'>"
      ]
     },
     "execution_count": 26,
     "metadata": {},
     "output_type": "execute_result"
    },
    {
     "data": {
      "image/png": "[encoded data removed]",
      "text/plain": [
       "<Figure size 432x288 with 1 Axes>"
      ]
     },
     "metadata": {
      "needs_background": "light"
     },
     "output_type": "display_data"
    }
   ],
   "source": [
    "sns.boxplot(data=df , x=\"Airline\",y='Fare')"
   ]
  },
  {
   "cell_type": "markdown",
   "metadata": {},
   "source": [
    "*Omega Has relatively Low Fare from Other Airlines but on the other hand they have low no. of flights*"
   ]
  },
  {
   "cell_type": "code",
   "execution_count": 27,
   "metadata": {},
   "outputs": [
    {
     "data": {
      "text/plain": [
       "alpha    2148\n",
       "gamma    1663\n",
       "beta      902\n",
       "omega     143\n",
       "Name: Airline, dtype: int64"
      ]
     },
     "execution_count": 27,
     "metadata": {},
     "output_type": "execute_result"
    }
   ],
   "source": [
    "df['Airline'].value_counts()"
   ]
  },
  {
   "cell_type": "code",
   "execution_count": 28,
   "metadata": {},
   "outputs": [
    {
     "data": {
      "text/plain": [
       "<AxesSubplot:xlabel='Airline', ylabel='Days_to_Depart'>"
      ]
     },
     "execution_count": 28,
     "metadata": {},
     "output_type": "execute_result"
    },
    {
     "data": {
      "image/png": "[encoded data removed]",
      "text/plain": [
       "<Figure size 432x288 with 1 Axes>"
      ]
     },
     "metadata": {
      "needs_background": "light"
     },
     "output_type": "display_data"
    }
   ],
   "source": [
    "sns.boxplot(data=df,x='Airline',y='Days_to_Depart')"
   ]
  },
  {
   "cell_type": "markdown",
   "metadata": {},
   "source": [
    "*Less Days for Omega flight to Departure.*"
   ]
  },
  {
   "cell_type": "markdown",
   "metadata": {},
   "source": [
    "### **8. Applying Machine_Learning Models**"
   ]
  },
  {
   "cell_type": "markdown",
   "metadata": {},
   "source": [
    "#### ***Encoding***"
   ]
  },
  {
   "cell_type": "code",
   "execution_count": 29,
   "metadata": {},
   "outputs": [],
   "source": [
    "from sklearn.preprocessing import LabelEncoder  as le      # Importing Encoder"
   ]
  },
  {
   "cell_type": "code",
   "execution_count": 30,
   "metadata": {},
   "outputs": [],
   "source": [
    "df['Airline'] = le().fit_transform(df['Airline'])\n",
    "df['Ticket_Refunded'] = le().fit_transform(df['Ticket_Refunded'])\n",
    "\n",
    "df1['Airline'] = le().fit_transform(df1['Airline'])\n",
    "df1['Ticket_Refunded'] = le().fit_transform(df1['Ticket_Refunded'])"
   ]
  },
  {
   "cell_type": "markdown",
   "metadata": {},
   "source": [
    "**Important Feature**"
   ]
  },
  {
   "cell_type": "code",
   "execution_count": 66,
   "metadata": {},
   "outputs": [
    {
     "data": {
      "image/png": "[encoded data removed]",
      "text/plain": [
       "<Figure size 432x288 with 1 Axes>"
      ]
     },
     "metadata": {
      "needs_background": "light"
     },
     "output_type": "display_data"
    }
   ],
   "source": [
    "from sklearn.ensemble import ExtraTreesRegressor\n",
    "\n",
    "df_name = df.columns\n",
    "clf = ExtraTreesRegressor(n_estimators=250,\n",
    "                              random_state=SEED)\n",
    "\n",
    "clf.fit(df[df_name[0:7]],df[df_name[7]])\n",
    "\n",
    "\n",
    "# Plot feature importance\n",
    "feature_importance = clf.feature_importances_\n",
    "# make importances relative to max importance\n",
    "feature_importance = 100.0 * (feature_importance / feature_importance.max())\n",
    "sorted_idx = np.argsort(feature_importance)\n",
    "pos = np.arange(sorted_idx.shape[0]) + .5\n",
    "plt.subplot(1, 2, 2)\n",
    "plt.barh(pos, feature_importance[sorted_idx], align='center')\n",
    "plt.yticks(pos, df.columns[sorted_idx])\n",
    "#boston.feature_names[sorted_idx])\n",
    "\n",
    "plt.xlabel('Relative Importance')\n",
    "plt.title('Variable Importance')\n",
    "plt.show()"
   ]
  },
  {
   "cell_type": "markdown",
   "metadata": {},
   "source": [
    "#### ***Splittin into X and Y***"
   ]
  },
  {
   "cell_type": "code",
   "execution_count": 44,
   "metadata": {},
   "outputs": [],
   "source": [
    "X= df[['Airline','Ticket_Refunded','Bag_Weight','Bag_Pieces','Days_to_Depart']]\n",
    "y= df['Fare']"
   ]
  },
  {
   "cell_type": "code",
   "execution_count": 57,
   "metadata": {},
   "outputs": [
    {
     "data": {
      "text/plain": [
       "(4856, 5)"
      ]
     },
     "execution_count": 57,
     "metadata": {},
     "output_type": "execute_result"
    }
   ],
   "source": [
    "X.shape"
   ]
  },
  {
   "cell_type": "code",
   "execution_count": 60,
   "metadata": {},
   "outputs": [],
   "source": [
    "# Making df1 Data_Frame equal ot our test data_frame\n",
    "df1 = df1.sample(4856)"
   ]
  },
  {
   "cell_type": "code",
   "execution_count": 47,
   "metadata": {},
   "outputs": [
    {
     "data": {
      "text/html": [
       "<div>\n",
       "<style scoped>\n",
       "    .dataframe tbody tr th:only-of-type {\n",
       "        vertical-align: middle;\n",
       "    }\n",
       "\n",
       "    .dataframe tbody tr th {\n",
       "        vertical-align: top;\n",
       "    }\n",
       "\n",
       "    .dataframe thead th {\n",
       "        text-align: right;\n",
       "    }\n",
       "</style>\n",
       "<table border=\"1\" class=\"dataframe\">\n",
       "  <thead>\n",
       "    <tr style=\"text-align: right;\">\n",
       "      <th></th>\n",
       "      <th>Airline</th>\n",
       "      <th>Ticket_Refunded</th>\n",
       "      <th>Bag_Weight</th>\n",
       "      <th>Bag_Pieces</th>\n",
       "      <th>Days_to_Depart</th>\n",
       "    </tr>\n",
       "  </thead>\n",
       "  <tbody>\n",
       "    <tr>\n",
       "      <th>758</th>\n",
       "      <td>2</td>\n",
       "      <td>0</td>\n",
       "      <td>20.0</td>\n",
       "      <td>1</td>\n",
       "      <td>3</td>\n",
       "    </tr>\n",
       "    <tr>\n",
       "      <th>4009</th>\n",
       "      <td>0</td>\n",
       "      <td>0</td>\n",
       "      <td>20.0</td>\n",
       "      <td>1</td>\n",
       "      <td>41</td>\n",
       "    </tr>\n",
       "    <tr>\n",
       "      <th>1820</th>\n",
       "      <td>3</td>\n",
       "      <td>0</td>\n",
       "      <td>20.0</td>\n",
       "      <td>1</td>\n",
       "      <td>25</td>\n",
       "    </tr>\n",
       "    <tr>\n",
       "      <th>1056</th>\n",
       "      <td>0</td>\n",
       "      <td>0</td>\n",
       "      <td>20.0</td>\n",
       "      <td>1</td>\n",
       "      <td>8</td>\n",
       "    </tr>\n",
       "    <tr>\n",
       "      <th>1552</th>\n",
       "      <td>3</td>\n",
       "      <td>0</td>\n",
       "      <td>20.0</td>\n",
       "      <td>1</td>\n",
       "      <td>61</td>\n",
       "    </tr>\n",
       "  </tbody>\n",
       "</table>\n",
       "</div>"
      ],
      "text/plain": [
       "      Airline  Ticket_Refunded  Bag_Weight  Bag_Pieces  Days_to_Depart\n",
       "758         2                0        20.0           1               3\n",
       "4009        0                0        20.0           1              41\n",
       "1820        3                0        20.0           1              25\n",
       "1056        0                0        20.0           1               8\n",
       "1552        3                0        20.0           1              61"
      ]
     },
     "execution_count": 47,
     "metadata": {},
     "output_type": "execute_result"
    }
   ],
   "source": [
    "df1.head()"
   ]
  },
  {
   "cell_type": "markdown",
   "metadata": {},
   "source": [
    "### ***Machine Learning Modeling***"
   ]
  },
  {
   "cell_type": "markdown",
   "metadata": {},
   "source": [
    "*Importing Models*"
   ]
  },
  {
   "cell_type": "code",
   "execution_count": 48,
   "metadata": {},
   "outputs": [],
   "source": [
    "from sklearn.linear_model import LinearRegression\n",
    "from sklearn.tree import DecisionTreeRegressor\n",
    "from sklearn.ensemble import RandomForestRegressor\n",
    "from sklearn.svm import SVR\n",
    "from sklearn.neighbors import KNeighborsRegressor\n",
    "from sklearn.ensemble import AdaBoostRegressor\n",
    "from sklearn.ensemble import GradientBoostingRegressor\n",
    "\n",
    "# For Classification\n",
    "# from sklearn.discriminant_analysis import LinearDiscriminantAnalysis\n",
    "# from sklearn.naive_bayes import GaussianNB\n",
    "\n",
    "\n",
    "\n",
    "from pandas import set_option\n",
    "from sklearn.model_selection import train_test_split\n",
    "from sklearn.model_selection import KFold\n",
    "from sklearn.model_selection import RepeatedKFold\n",
    "from sklearn.model_selection import cross_val_score\n",
    "from sklearn.model_selection import GridSearchCV\n",
    "from sklearn.pipeline import Pipeline\n",
    "# For Classification\n",
    "# from pandas.tools.plotting import scatter_matrix\n",
    "# from sklearn.model_selection import StratifiedKFold\n",
    "\n",
    "\n",
    "from sklearn.metrics import mean_squared_error,mean_absolute_error,explained_variance_score,max_error,r2_score,median_absolute_error,mean_squared_log_error"
   ]
  },
  {
   "cell_type": "markdown",
   "metadata": {},
   "source": [
    "*Models Function*"
   ]
  },
  {
   "cell_type": "code",
   "execution_count": 49,
   "metadata": {},
   "outputs": [],
   "source": [
    "# Initial Algorithms to fit the data on\n",
    "def GetBasedModel():\n",
    "    basedModels = []\n",
    "    basedModels.append(('Linear Regression', LinearRegression()))\n",
    "    basedModels.append(('K-Nearest Neigbour', KNeighborsRegressor()))\n",
    "    basedModels.append(('Decision Tree', DecisionTreeRegressor()))\n",
    "    basedModels.append(('Support Vector Machine', SVR()))\n",
    "    basedModels.append(('Ada Boost', AdaBoostRegressor()))\n",
    "    basedModels.append(('Gradient Boost'  , GradientBoostingRegressor()))\n",
    "    basedModels.append(('Random Forest'   , RandomForestRegressor()))\n",
    "    basedModels.append(('Extra Tree Classifier'   , ExtraTreesRegressor()))\n",
    "    # max_depth = 12, eta = 0.3,n_estimators = 100, objective = 'reg:squarederror',gamma = 0.01\n",
    "\n",
    "    \n",
    "    return basedModels"
   ]
  },
  {
   "cell_type": "markdown",
   "metadata": {},
   "source": [
    "*Metrics Function*"
   ]
  },
  {
   "cell_type": "code",
   "execution_count": 50,
   "metadata": {},
   "outputs": [],
   "source": [
    "def evaluate_metrics(X_test,y_test,y_pred,model):\n",
    "    mean_abs_error = mean_absolute_error(y_test,y_pred)\n",
    "    mean_sq_error = mean_squared_error(y_test,y_pred)\n",
    "    root_mean_sq_error = mean_squared_error(y_test,y_pred)**0.5\n",
    "    r2_scr = r2_score(y_test,y_pred)\n",
    "    median_abs_score = median_absolute_error(y_test,y_pred)\n",
    "    explained_variance = explained_variance_score(y_test,y_pred)\n",
    "    max_err = max_error(y_test,y_pred)\n",
    "\n",
    "    metric_name = [\"Mean Absolute Error (MAE)\",\"Mean Square Error (MSE)\",\"Root Mean Squared Error (RMSE)\",\"R2 Score\",\"Median Absolute Error\",\"Explained Variance Score\", \"Max Error\"]\n",
    "\n",
    "    return metric_name, mean_abs_error, mean_sq_error, root_mean_sq_error, r2_scr, median_abs_score, explained_variance, max_err"
   ]
  },
  {
   "cell_type": "markdown",
   "metadata": {},
   "source": [
    "*Model Tuning Function*"
   ]
  },
  {
   "cell_type": "code",
   "execution_count": 51,
   "metadata": {},
   "outputs": [],
   "source": [
    "def BasedLine2(X_train, y_train, X_test, y_test, models):\n",
    "    results = []\n",
    "    names = []\n",
    "    metric_values = []\n",
    "    metric_names = []\n",
    "\n",
    "    for name, model in models:\n",
    "        kfold = KFold(n_splits=10, random_state=SEED, shuffle=True)\n",
    "        cv_results = cross_val_score(model, X_train, y_train, cv=kfold, scoring='neg_root_mean_squared_error')\n",
    "        # For scoring Parameters visit: https://scikit-learn.org/stable/modules/model_evaluation.html#scoring-parameter\n",
    "        results.append(abs(cv_results))\n",
    "        names.append(name)\n",
    "        # print(f\"{name} {abs(cv_results.mean()):.3f} [{cv_results.std():.3f}]\")\n",
    "        # print(abs(cv_results))\n",
    "        \n",
    "        model.fit(X_train, y_train)\n",
    "        global y_pred\n",
    "        y_pred = model.predict(X_test)\n",
    "        m_n, mean_abs_error, mean_sq_error, root_mean_sq_error, r2_scr, median_abs_score, explained_variance, max_err = evaluate_metrics(X_test, y_test, y_pred, models)\n",
    "\n",
    "        metric_names.append(m_n)\n",
    "        metric_values.append((mean_abs_error.mean(), mean_sq_error.mean(), root_mean_sq_error.mean(), r2_scr.mean(), median_abs_score.mean(), explained_variance.mean(), max_err.mean()))\n",
    "        \n",
    "    return names, results, metric_names, metric_values"
   ]
  },
  {
   "cell_type": "markdown",
   "metadata": {},
   "source": [
    "*Models Visualization Function*"
   ]
  },
  {
   "cell_type": "code",
   "execution_count": 52,
   "metadata": {},
   "outputs": [],
   "source": [
    "# Importing Plotting Libraries\n",
    "import plotly.offline as py\n",
    "import plotly.graph_objs as go\n",
    "import plotly.tools as tls\n",
    "import plotly.express as px"
   ]
  },
  {
   "cell_type": "code",
   "execution_count": 53,
   "metadata": {},
   "outputs": [],
   "source": [
    "class PlotBoxR(object):\n",
    "    \n",
    "    def __Trace(self,nameOfFeature,value): \n",
    "\n",
    "        trace = go.Box(\n",
    "            y = value,\n",
    "            name = nameOfFeature,\n",
    "            marker = dict(\n",
    "                color = 'rgb(0, 128, 128)',\n",
    "            )\n",
    "        )\n",
    "        return trace\n",
    "\n",
    "    def PlotResult(self,names,results):\n",
    "\n",
    "        data = []\n",
    "\n",
    "        for i in range(len(names)):\n",
    "            data.append(self.__Trace(names[i],results[i]))\n",
    "\n",
    "        py.iplot(data)"
   ]
  },
  {
   "cell_type": "markdown",
   "metadata": {},
   "source": [
    "*Splitting Data into Traing and Test*"
   ]
  },
  {
   "cell_type": "code",
   "execution_count": 54,
   "metadata": {},
   "outputs": [],
   "source": [
    "X_train,X_test,y_train,y_test =train_test_split(X, y, test_size=0.2, random_state=42)   # Random sample of 42 from dataset\n",
    "\n",
    "# X_train, y_train = df[['Airline','Ticket_Refunded','Bag_Weight','Bag_Pieces','Days_to_Depart']].values, df['Fare'].values\n"
   ]
  },
  {
   "cell_type": "markdown",
   "metadata": {},
   "source": []
  },
  {
   "cell_type": "markdown",
   "metadata": {},
   "source": [
    "*Model Training and Evaluation*"
   ]
  },
  {
   "cell_type": "code",
   "execution_count": 55,
   "metadata": {},
   "outputs": [
    {
     "data": {
      "application/vnd.plotly.v1+json": {
       "config": {
        "linkText": "Export to plot.ly",
        "plotlyServerURL": "https://plot.ly",
        "showLink": false
       },
       "data": [
        {
         "marker": {
          "color": "rgb(0, 128, 128)"
         },
         "name": "Linear Regression",
         "type": "box",
         "y": [
          0.2610488043221261,
          0.26956678475127405,
          0.2568302820270376,
          0.2780614244031543,
          0.2643247043202909,
          0.2563195620612523,
          0.2807545596498797,
          0.26209437215937,
          0.2614296101362267,
          0.2859658790267123
         ]
        },
        {
         "marker": {
          "color": "rgb(0, 128, 128)"
         },
         "name": "K-Nearest Neigbour",
         "type": "box",
         "y": [
          0.2800200078468892,
          0.281101702449494,
          0.2700614107186684,
          0.2906906818907927,
          0.2831812098743433,
          0.27597113313504273,
          0.2983630507157653,
          0.27700646619190594,
          0.27603439073702696,
          0.3031710223292704
         ]
        },
        {
         "marker": {
          "color": "rgb(0, 128, 128)"
         },
         "name": "Decision Tree",
         "type": "box",
         "y": [
          0.2622154729822324,
          0.27473387288094714,
          0.26116002409694655,
          0.2707559833363069,
          0.25715710099190725,
          0.25292614284112125,
          0.28475899016835626,
          0.2639756166990959,
          0.26595768396230235,
          0.29037705754990684
         ]
        },
        {
         "marker": {
          "color": "rgb(0, 128, 128)"
         },
         "name": "Support Vector Machine",
         "type": "box",
         "y": [
          0.2472660117869239,
          0.2623661246457272,
          0.25826777226221403,
          0.2748632624713178,
          0.2563503079579109,
          0.2482889178299627,
          0.2839553821182241,
          0.2573545966002234,
          0.26054105706564457,
          0.27847921046630625
         ]
        },
        {
         "marker": {
          "color": "rgb(0, 128, 128)"
         },
         "name": "Ada Boost",
         "type": "box",
         "y": [
          0.2666633685531618,
          0.27795233164945654,
          0.27342776952608455,
          0.2795862356787831,
          0.2659593679791858,
          0.271884621068813,
          0.28137666497116454,
          0.27563396349660224,
          0.2578222692036237,
          0.29748543563976276
         ]
        },
        {
         "marker": {
          "color": "rgb(0, 128, 128)"
         },
         "name": "Gradient Boost",
         "type": "box",
         "y": [
          0.24823416387892225,
          0.26200074951003066,
          0.2538541588276359,
          0.26494062884978375,
          0.25060788241491083,
          0.2457789955071755,
          0.27440876694055105,
          0.2555184365824693,
          0.2529718966944718,
          0.2765992418358419
         ]
        },
        {
         "marker": {
          "color": "rgb(0, 128, 128)"
         },
         "name": "Random Forest",
         "type": "box",
         "y": [
          0.2618106254648222,
          0.2720351024438136,
          0.2598475857569778,
          0.26673741800773043,
          0.25639476086630264,
          0.2532283153225201,
          0.2815964164468741,
          0.26163995183501426,
          0.26197309552965226,
          0.2866547180717307
         ]
        },
        {
         "marker": {
          "color": "rgb(0, 128, 128)"
         },
         "name": "Extra Tree Classifier",
         "type": "box",
         "y": [
          0.26160931383432023,
          0.273095754609001,
          0.2604617882237399,
          0.2698507317782524,
          0.25598795295885907,
          0.25306034544663053,
          0.283319070890272,
          0.2637965870625363,
          0.26499265576546366,
          0.29022359967312317
         ]
        }
       ],
       "layout": {
        "template": {
         "data": {
          "bar": [
           {
            "error_x": {
             "color": "#2a3f5f"
            },
            "error_y": {
             "color": "#2a3f5f"
            },
            "marker": {
             "line": {
              "color": "#E5ECF6",
              "width": 0.5
             },
             "pattern": {
              "fillmode": "overlay",
              "size": 10,
              "solidity": 0.2
             }
            },
            "type": "bar"
           }
          ],
          "barpolar": [
           {
            "marker": {
             "line": {
              "color": "#E5ECF6",
              "width": 0.5
             },
             "pattern": {
              "fillmode": "overlay",
              "size": 10,
              "solidity": 0.2
             }
            },
            "type": "barpolar"
           }
          ],
          "carpet": [
           {
            "aaxis": {
             "endlinecolor": "#2a3f5f",
             "gridcolor": "white",
             "linecolor": "white",
             "minorgridcolor": "white",
             "startlinecolor": "#2a3f5f"
            },
            "baxis": {
             "endlinecolor": "#2a3f5f",
             "gridcolor": "white",
             "linecolor": "white",
             "minorgridcolor": "white",
             "startlinecolor": "#2a3f5f"
            },
            "type": "carpet"
           }
          ],
          "choropleth": [
           {
            "colorbar": {
             "outlinewidth": 0,
             "ticks": ""
            },
            "type": "choropleth"
           }
          ],
          "contour": [
           {
            "colorbar": {
             "outlinewidth": 0,
             "ticks": ""
            },
            "colorscale": [
             [
              0,
              "#0d0887"
             ],
             [
              0.1111111111111111,
              "#46039f"
             ],
             [
              0.2222222222222222,
              "#7201a8"
             ],
             [
              0.3333333333333333,
              "#9c179e"
             ],
             [
              0.4444444444444444,
              "#bd3786"
             ],
             [
              0.5555555555555556,
              "#d8576b"
             ],
             [
              0.6666666666666666,
              "#ed7953"
             ],
             [
              0.7777777777777778,
              "#fb9f3a"
             ],
             [
              0.8888888888888888,
              "#fdca26"
             ],
             [
              1,
              "#f0f921"
             ]
            ],
            "type": "contour"
           }
          ],
          "contourcarpet": [
           {
            "colorbar": {
             "outlinewidth": 0,
             "ticks": ""
            },
            "type": "contourcarpet"
           }
          ],
          "heatmap": [
           {
            "colorbar": {
             "outlinewidth": 0,
             "ticks": ""
            },
            "colorscale": [
             [
              0,
              "#0d0887"
             ],
             [
              0.1111111111111111,
              "#46039f"
             ],
             [
              0.2222222222222222,
              "#7201a8"
             ],
             [
              0.3333333333333333,
              "#9c179e"
             ],
             [
              0.4444444444444444,
              "#bd3786"
             ],
             [
              0.5555555555555556,
              "#d8576b"
             ],
             [
              0.6666666666666666,
              "#ed7953"
             ],
             [
              0.7777777777777778,
              "#fb9f3a"
             ],
             [
              0.8888888888888888,
              "#fdca26"
             ],
             [
              1,
              "#f0f921"
             ]
            ],
            "type": "heatmap"
           }
          ],
          "heatmapgl": [
           {
            "colorbar": {
             "outlinewidth": 0,
             "ticks": ""
            },
            "colorscale": [
             [
              0,
              "#0d0887"
             ],
             [
              0.1111111111111111,
              "#46039f"
             ],
             [
              0.2222222222222222,
              "#7201a8"
             ],
             [
              0.3333333333333333,
              "#9c179e"
             ],
             [
              0.4444444444444444,
              "#bd3786"
             ],
             [
              0.5555555555555556,
              "#d8576b"
             ],
             [
              0.6666666666666666,
              "#ed7953"
             ],
             [
              0.7777777777777778,
              "#fb9f3a"
             ],
             [
              0.8888888888888888,
              "#fdca26"
             ],
             [
              1,
              "#f0f921"
             ]
            ],
            "type": "heatmapgl"
           }
          ],
          "histogram": [
           {
            "marker": {
             "pattern": {
              "fillmode": "overlay",
              "size": 10,
              "solidity": 0.2
             }
            },
            "type": "histogram"
           }
          ],
          "histogram2d": [
           {
            "colorbar": {
             "outlinewidth": 0,
             "ticks": ""
            },
            "colorscale": [
             [
              0,
              "#0d0887"
             ],
             [
              0.1111111111111111,
              "#46039f"
             ],
             [
              0.2222222222222222,
              "#7201a8"
             ],
             [
              0.3333333333333333,
              "#9c179e"
             ],
             [
              0.4444444444444444,
              "#bd3786"
             ],
             [
              0.5555555555555556,
              "#d8576b"
             ],
             [
              0.6666666666666666,
              "#ed7953"
             ],
             [
              0.7777777777777778,
              "#fb9f3a"
             ],
             [
              0.8888888888888888,
              "#fdca26"
             ],
             [
              1,
              "#f0f921"
             ]
            ],
            "type": "histogram2d"
           }
          ],
          "histogram2dcontour": [
           {
            "colorbar": {
             "outlinewidth": 0,
             "ticks": ""
            },
            "colorscale": [
             [
              0,
              "#0d0887"
             ],
             [
              0.1111111111111111,
              "#46039f"
             ],
             [
              0.2222222222222222,
              "#7201a8"
             ],
             [
              0.3333333333333333,
              "#9c179e"
             ],
             [
              0.4444444444444444,
              "#bd3786"
             ],
             [
              0.5555555555555556,
              "#d8576b"
             ],
             [
              0.6666666666666666,
              "#ed7953"
             ],
             [
              0.7777777777777778,
              "#fb9f3a"
             ],
             [
              0.8888888888888888,
              "#fdca26"
             ],
             [
              1,
              "#f0f921"
             ]
            ],
            "type": "histogram2dcontour"
           }
          ],
          "mesh3d": [
           {
            "colorbar": {
             "outlinewidth": 0,
             "ticks": ""
            },
            "type": "mesh3d"
           }
          ],
          "parcoords": [
           {
            "line": {
             "colorbar": {
              "outlinewidth": 0,
              "ticks": ""
             }
            },
            "type": "parcoords"
           }
          ],
          "pie": [
           {
            "automargin": true,
            "type": "pie"
           }
          ],
          "scatter": [
           {
            "fillpattern": {
             "fillmode": "overlay",
             "size": 10,
             "solidity": 0.2
            },
            "type": "scatter"
           }
          ],
          "scatter3d": [
           {
            "line": {
             "colorbar": {
              "outlinewidth": 0,
              "ticks": ""
             }
            },
            "marker": {
             "colorbar": {
              "outlinewidth": 0,
              "ticks": ""
             }
            },
            "type": "scatter3d"
           }
          ],
          "scattercarpet": [
           {
            "marker": {
             "colorbar": {
              "outlinewidth": 0,
              "ticks": ""
             }
            },
            "type": "scattercarpet"
           }
          ],
          "scattergeo": [
           {
            "marker": {
             "colorbar": {
              "outlinewidth": 0,
              "ticks": ""
             }
            },
            "type": "scattergeo"
           }
          ],
          "scattergl": [
           {
            "marker": {
             "colorbar": {
              "outlinewidth": 0,
              "ticks": ""
             }
            },
            "type": "scattergl"
           }
          ],
          "scattermapbox": [
           {
            "marker": {
             "colorbar": {
              "outlinewidth": 0,
              "ticks": ""
             }
            },
            "type": "scattermapbox"
           }
          ],
          "scatterpolar": [
           {
            "marker": {
             "colorbar": {
              "outlinewidth": 0,
              "ticks": ""
             }
            },
            "type": "scatterpolar"
           }
          ],
          "scatterpolargl": [
           {
            "marker": {
             "colorbar": {
              "outlinewidth": 0,
              "ticks": ""
             }
            },
            "type": "scatterpolargl"
           }
          ],
          "scatterternary": [
           {
            "marker": {
             "colorbar": {
              "outlinewidth": 0,
              "ticks": ""
             }
            },
            "type": "scatterternary"
           }
          ],
          "surface": [
           {
            "colorbar": {
             "outlinewidth": 0,
             "ticks": ""
            },
            "colorscale": [
             [
              0,
              "#0d0887"
             ],
             [
              0.1111111111111111,
              "#46039f"
             ],
             [
              0.2222222222222222,
              "#7201a8"
             ],
             [
              0.3333333333333333,
              "#9c179e"
             ],
             [
              0.4444444444444444,
              "#bd3786"
             ],
             [
              0.5555555555555556,
              "#d8576b"
             ],
             [
              0.6666666666666666,
              "#ed7953"
             ],
             [
              0.7777777777777778,
              "#fb9f3a"
             ],
             [
              0.8888888888888888,
              "#fdca26"
             ],
             [
              1,
              "#f0f921"
             ]
            ],
            "type": "surface"
           }
          ],
          "table": [
           {
            "cells": {
             "fill": {
              "color": "#EBF0F8"
             },
             "line": {
              "color": "white"
             }
            },
            "header": {
             "fill": {
              "color": "#C8D4E3"
             },
             "line": {
              "color": "white"
             }
            },
            "type": "table"
           }
          ]
         },
         "layout": {
          "annotationdefaults": {
           "arrowcolor": "#2a3f5f",
           "arrowhead": 0,
           "arrowwidth": 1
          },
          "autotypenumbers": "strict",
          "coloraxis": {
           "colorbar": {
            "outlinewidth": 0,
            "ticks": ""
           }
          },
          "colorscale": {
           "diverging": [
            [
             0,
             "#8e0152"
            ],
            [
             0.1,
             "#c51b7d"
            ],
            [
             0.2,
             "#de77ae"
            ],
            [
             0.3,
             "#f1b6da"
            ],
            [
             0.4,
             "#fde0ef"
            ],
            [
             0.5,
             "#f7f7f7"
            ],
            [
             0.6,
             "#e6f5d0"
            ],
            [
             0.7,
             "#b8e186"
            ],
            [
             0.8,
             "#7fbc41"
            ],
            [
             0.9,
             "#4d9221"
            ],
            [
             1,
             "#276419"
            ]
           ],
           "sequential": [
            [
             0,
             "#0d0887"
            ],
            [
             0.1111111111111111,
             "#46039f"
            ],
            [
             0.2222222222222222,
             "#7201a8"
            ],
            [
             0.3333333333333333,
             "#9c179e"
            ],
            [
             0.4444444444444444,
             "#bd3786"
            ],
            [
             0.5555555555555556,
             "#d8576b"
            ],
            [
             0.6666666666666666,
             "#ed7953"
            ],
            [
             0.7777777777777778,
             "#fb9f3a"
            ],
            [
             0.8888888888888888,
             "#fdca26"
            ],
            [
             1,
             "#f0f921"
            ]
           ],
           "sequentialminus": [
            [
             0,
             "#0d0887"
            ],
            [
             0.1111111111111111,
             "#46039f"
            ],
            [
             0.2222222222222222,
             "#7201a8"
            ],
            [
             0.3333333333333333,
             "#9c179e"
            ],
            [
             0.4444444444444444,
             "#bd3786"
            ],
            [
             0.5555555555555556,
             "#d8576b"
            ],
            [
             0.6666666666666666,
             "#ed7953"
            ],
            [
             0.7777777777777778,
             "#fb9f3a"
            ],
            [
             0.8888888888888888,
             "#fdca26"
            ],
            [
             1,
             "#f0f921"
            ]
           ]
          },
          "colorway": [
           "#636efa",
           "#EF553B",
           "#00cc96",
           "#ab63fa",
           "#FFA15A",
           "#19d3f3",
           "#FF6692",
           "#B6E880",
           "#FF97FF",
           "#FECB52"
          ],
          "font": {
           "color": "#2a3f5f"
          },
          "geo": {
           "bgcolor": "white",
           "lakecolor": "white",
           "landcolor": "#E5ECF6",
           "showlakes": true,
           "showland": true,
           "subunitcolor": "white"
          },
          "hoverlabel": {
           "align": "left"
          },
          "hovermode": "closest",
          "mapbox": {
           "style": "light"
          },
          "paper_bgcolor": "white",
          "plot_bgcolor": "#E5ECF6",
          "polar": {
           "angularaxis": {
            "gridcolor": "white",
            "linecolor": "white",
            "ticks": ""
           },
           "bgcolor": "#E5ECF6",
           "radialaxis": {
            "gridcolor": "white",
            "linecolor": "white",
            "ticks": ""
           }
          },
          "scene": {
           "xaxis": {
            "backgroundcolor": "#E5ECF6",
            "gridcolor": "white",
            "gridwidth": 2,
            "linecolor": "white",
            "showbackground": true,
            "ticks": "",
            "zerolinecolor": "white"
           },
           "yaxis": {
            "backgroundcolor": "#E5ECF6",
            "gridcolor": "white",
            "gridwidth": 2,
            "linecolor": "white",
            "showbackground": true,
            "ticks": "",
            "zerolinecolor": "white"
           },
           "zaxis": {
            "backgroundcolor": "#E5ECF6",
            "gridcolor": "white",
            "gridwidth": 2,
            "linecolor": "white",
            "showbackground": true,
            "ticks": "",
            "zerolinecolor": "white"
           }
          },
          "shapedefaults": {
           "line": {
            "color": "#2a3f5f"
           }
          },
          "ternary": {
           "aaxis": {
            "gridcolor": "white",
            "linecolor": "white",
            "ticks": ""
           },
           "baxis": {
            "gridcolor": "white",
            "linecolor": "white",
            "ticks": ""
           },
           "bgcolor": "#E5ECF6",
           "caxis": {
            "gridcolor": "white",
            "linecolor": "white",
            "ticks": ""
           }
          },
          "title": {
           "x": 0.05
          },
          "xaxis": {
           "automargin": true,
           "gridcolor": "white",
           "linecolor": "white",
           "ticks": "",
           "title": {
            "standoff": 15
           },
           "zerolinecolor": "white",
           "zerolinewidth": 2
          },
          "yaxis": {
           "automargin": true,
           "gridcolor": "white",
           "linecolor": "white",
           "ticks": "",
           "title": {
            "standoff": 15
           },
           "zerolinecolor": "white",
           "zerolinewidth": 2
          }
         }
        }
       }
      }
     },
     "metadata": {},
     "output_type": "display_data"
    },
    {
     "data": {
      "text/html": [
       "<div>\n",
       "<style scoped>\n",
       "    .dataframe tbody tr th:only-of-type {\n",
       "        vertical-align: middle;\n",
       "    }\n",
       "\n",
       "    .dataframe tbody tr th {\n",
       "        vertical-align: top;\n",
       "    }\n",
       "\n",
       "    .dataframe thead th {\n",
       "        text-align: right;\n",
       "    }\n",
       "</style>\n",
       "<table border=\"1\" class=\"dataframe\">\n",
       "  <thead>\n",
       "    <tr style=\"text-align: right;\">\n",
       "      <th></th>\n",
       "      <th>Mean Absolute Error (MAE)</th>\n",
       "      <th>Mean Square Error (MSE)</th>\n",
       "      <th>Root Mean Squared Error (RMSE)</th>\n",
       "      <th>R2 Score</th>\n",
       "      <th>Median Absolute Error</th>\n",
       "      <th>Explained Variance Score</th>\n",
       "      <th>Max Error</th>\n",
       "    </tr>\n",
       "  </thead>\n",
       "  <tbody>\n",
       "    <tr>\n",
       "      <th>Linear Regression</th>\n",
       "      <td>0.213384</td>\n",
       "      <td>0.072262</td>\n",
       "      <td>0.268815</td>\n",
       "      <td>0.079847</td>\n",
       "      <td>0.188443</td>\n",
       "      <td>0.081683</td>\n",
       "      <td>1.031586</td>\n",
       "    </tr>\n",
       "    <tr>\n",
       "      <th>K-Nearest Neigbour</th>\n",
       "      <td>0.214714</td>\n",
       "      <td>0.078296</td>\n",
       "      <td>0.279815</td>\n",
       "      <td>0.003001</td>\n",
       "      <td>0.174715</td>\n",
       "      <td>0.003704</td>\n",
       "      <td>1.177087</td>\n",
       "    </tr>\n",
       "    <tr>\n",
       "      <th>Decision Tree</th>\n",
       "      <td>0.202936</td>\n",
       "      <td>0.071014</td>\n",
       "      <td>0.266485</td>\n",
       "      <td>0.095729</td>\n",
       "      <td>0.172438</td>\n",
       "      <td>0.097744</td>\n",
       "      <td>1.016442</td>\n",
       "    </tr>\n",
       "    <tr>\n",
       "      <th>Support Vector Machine</th>\n",
       "      <td>0.199066</td>\n",
       "      <td>0.067219</td>\n",
       "      <td>0.259265</td>\n",
       "      <td>0.144062</td>\n",
       "      <td>0.155954</td>\n",
       "      <td>0.148536</td>\n",
       "      <td>1.084740</td>\n",
       "    </tr>\n",
       "    <tr>\n",
       "      <th>Ada Boost</th>\n",
       "      <td>0.228907</td>\n",
       "      <td>0.081062</td>\n",
       "      <td>0.284715</td>\n",
       "      <td>-0.032221</td>\n",
       "      <td>0.196691</td>\n",
       "      <td>0.059423</td>\n",
       "      <td>1.065866</td>\n",
       "    </tr>\n",
       "    <tr>\n",
       "      <th>Gradient Boost</th>\n",
       "      <td>0.201709</td>\n",
       "      <td>0.068009</td>\n",
       "      <td>0.260785</td>\n",
       "      <td>0.134002</td>\n",
       "      <td>0.170139</td>\n",
       "      <td>0.136039</td>\n",
       "      <td>1.040108</td>\n",
       "    </tr>\n",
       "    <tr>\n",
       "      <th>Random Forest</th>\n",
       "      <td>0.203060</td>\n",
       "      <td>0.070503</td>\n",
       "      <td>0.265525</td>\n",
       "      <td>0.102236</td>\n",
       "      <td>0.173752</td>\n",
       "      <td>0.104034</td>\n",
       "      <td>1.014378</td>\n",
       "    </tr>\n",
       "    <tr>\n",
       "      <th>Extra Tree Classifier</th>\n",
       "      <td>0.203051</td>\n",
       "      <td>0.070932</td>\n",
       "      <td>0.266331</td>\n",
       "      <td>0.096777</td>\n",
       "      <td>0.172977</td>\n",
       "      <td>0.098593</td>\n",
       "      <td>1.016442</td>\n",
       "    </tr>\n",
       "  </tbody>\n",
       "</table>\n",
       "</div>"
      ],
      "text/plain": [
       "                        Mean Absolute Error (MAE)  Mean Square Error (MSE)  \\\n",
       "Linear Regression                        0.213384                 0.072262   \n",
       "K-Nearest Neigbour                       0.214714                 0.078296   \n",
       "Decision Tree                            0.202936                 0.071014   \n",
       "Support Vector Machine                   0.199066                 0.067219   \n",
       "Ada Boost                                0.228907                 0.081062   \n",
       "Gradient Boost                           0.201709                 0.068009   \n",
       "Random Forest                            0.203060                 0.070503   \n",
       "Extra Tree Classifier                    0.203051                 0.070932   \n",
       "\n",
       "                        Root Mean Squared Error (RMSE)  R2 Score  \\\n",
       "Linear Regression                             0.268815  0.079847   \n",
       "K-Nearest Neigbour                            0.279815  0.003001   \n",
       "Decision Tree                                 0.266485  0.095729   \n",
       "Support Vector Machine                        0.259265  0.144062   \n",
       "Ada Boost                                     0.284715 -0.032221   \n",
       "Gradient Boost                                0.260785  0.134002   \n",
       "Random Forest                                 0.265525  0.102236   \n",
       "Extra Tree Classifier                         0.266331  0.096777   \n",
       "\n",
       "                        Median Absolute Error  Explained Variance Score  \\\n",
       "Linear Regression                    0.188443                  0.081683   \n",
       "K-Nearest Neigbour                   0.174715                  0.003704   \n",
       "Decision Tree                        0.172438                  0.097744   \n",
       "Support Vector Machine               0.155954                  0.148536   \n",
       "Ada Boost                            0.196691                  0.059423   \n",
       "Gradient Boost                       0.170139                  0.136039   \n",
       "Random Forest                        0.173752                  0.104034   \n",
       "Extra Tree Classifier                0.172977                  0.098593   \n",
       "\n",
       "                        Max Error  \n",
       "Linear Regression        1.031586  \n",
       "K-Nearest Neigbour       1.177087  \n",
       "Decision Tree            1.016442  \n",
       "Support Vector Machine   1.084740  \n",
       "Ada Boost                1.065866  \n",
       "Gradient Boost           1.040108  \n",
       "Random Forest            1.014378  \n",
       "Extra Tree Classifier    1.016442  "
      ]
     },
     "execution_count": 55,
     "metadata": {},
     "output_type": "execute_result"
    }
   ],
   "source": [
    "import warnings\n",
    "warnings.filterwarnings(\"ignore\")\n",
    "\n",
    "models = GetBasedModel()\n",
    "names, results, metric_names, metric_values = BasedLine2(X_train, y_train, X_test, y_test, models)\n",
    "PlotBoxR().PlotResult(names, results)\n",
    "pd.DataFrame(metric_values, columns=metric_names[0], index=names)"
   ]
  },
  {
   "cell_type": "code",
   "execution_count": null,
   "metadata": {},
   "outputs": [],
   "source": [
    "# another way of Importing Models\n",
    "# from sklearn.linear_model import LinearRegression \n",
    "# from sklearn.tree import DecisionTreeRegressor \n",
    "# from sklearn.neighbors import KNeighborsRegressor \n",
    "# from sklearn.svm import SVR \n",
    "# from sklearn.model_selection import train_test_split\n",
    "# from sklearn.metrics import r2_score,mean_squared_error,mean_absolute_error\n",
    "\n",
    "\n",
    "\n",
    "# lr = LinearRegression()\n",
    "# dt = DecisionTreeRegressor()\n",
    "# knn = KNeighborsRegressor()\n",
    "# svr =  SVR()\n"
   ]
  },
  {
   "cell_type": "markdown",
   "metadata": {},
   "source": [
    "For Root Mean Square Error Calculation: `rms= mean_squared_error(y_test,y_pred, squared=False)`"
   ]
  },
  {
   "cell_type": "markdown",
   "metadata": {},
   "source": [
    "#### ***Model Looping on basis of scores*** "
   ]
  },
  {
   "cell_type": "code",
   "execution_count": null,
   "metadata": {},
   "outputs": [],
   "source": [
    "# X_train,X_test,y_train,y_test =train_test_split(X, y, test_size=0.2, random_state=42)               # Random sample of 42 from dataset\n",
    "\n",
    "\n",
    "# for i in [lr,dt,knn,svr]:                           # Reading all Models\n",
    "#         i.fit(X_train,y_train)                      # Fitting the Models\n",
    "#         pred = i.predict(X_test)                    # Predicting the values\n",
    "#         test_score = r2_score(y_test, pred)         # test score\n",
    "#         train_score =  r2_score(y_train, i.predict(X_train))        # train score\n",
    "#         if abs(train_score-test_score) <= 0.1:\n",
    "#             print(i)\n",
    "#             print('R2 Score: ', r2_score(y_test,pred))\n",
    "#             print('Mean Absolute Error: ', mean_absolute_error(y_test,pred))\n",
    "#             print('Mean Squared Error: ', mean_squared_error(y_test,pred))\n",
    "#             print('Root Mean Square Error: ', mean_squared_error(y_test,pred, squared=False))\n",
    "\n"
   ]
  },
  {
   "cell_type": "markdown",
   "metadata": {},
   "source": [
    "#### ***Final prediciton on given values for Linear Regression***"
   ]
  },
  {
   "cell_type": "code",
   "execution_count": 61,
   "metadata": {},
   "outputs": [],
   "source": [
    "lr = LinearRegression().fit(X,y)                    # Fitting Original X and y\n",
    "pred = lr.predict(df1)\n",
    "\n",
    "# To save the predicted model\n",
    "res = pd.DataFrame(pred)\n",
    "res.index = X.index        # it's important for comparison\n",
    "res.columns = ['Prediction']\n",
    "res.to_csv('Prediction_results.csv')"
   ]
  },
  {
   "cell_type": "code",
   "execution_count": 62,
   "metadata": {},
   "outputs": [
    {
     "data": {
      "text/html": [
       "<div>\n",
       "<style scoped>\n",
       "    .dataframe tbody tr th:only-of-type {\n",
       "        vertical-align: middle;\n",
       "    }\n",
       "\n",
       "    .dataframe tbody tr th {\n",
       "        vertical-align: top;\n",
       "    }\n",
       "\n",
       "    .dataframe thead th {\n",
       "        text-align: right;\n",
       "    }\n",
       "</style>\n",
       "<table border=\"1\" class=\"dataframe\">\n",
       "  <thead>\n",
       "    <tr style=\"text-align: right;\">\n",
       "      <th></th>\n",
       "      <th>Unnamed: 0</th>\n",
       "      <th>Prediction</th>\n",
       "    </tr>\n",
       "  </thead>\n",
       "  <tbody>\n",
       "    <tr>\n",
       "      <th>0</th>\n",
       "      <td>0</td>\n",
       "      <td>9.316368</td>\n",
       "    </tr>\n",
       "    <tr>\n",
       "      <th>1</th>\n",
       "      <td>1</td>\n",
       "      <td>9.249922</td>\n",
       "    </tr>\n",
       "    <tr>\n",
       "      <th>2</th>\n",
       "      <td>2</td>\n",
       "      <td>9.211446</td>\n",
       "    </tr>\n",
       "    <tr>\n",
       "      <th>3</th>\n",
       "      <td>3</td>\n",
       "      <td>9.235493</td>\n",
       "    </tr>\n",
       "    <tr>\n",
       "      <th>4</th>\n",
       "      <td>4</td>\n",
       "      <td>9.182590</td>\n",
       "    </tr>\n",
       "  </tbody>\n",
       "</table>\n",
       "</div>"
      ],
      "text/plain": [
       "   Unnamed: 0  Prediction\n",
       "0           0    9.316368\n",
       "1           1    9.249922\n",
       "2           2    9.211446\n",
       "3           3    9.235493\n",
       "4           4    9.182590"
      ]
     },
     "execution_count": 62,
     "metadata": {},
     "output_type": "execute_result"
    }
   ],
   "source": [
    "df3 = pd.read_csv('Prediction_results.csv')         # Reading Predicted File\n",
    "df3.head()"
   ]
  },
  {
   "cell_type": "code",
   "execution_count": 63,
   "metadata": {},
   "outputs": [],
   "source": [
    "df3['Prediction']=np.exp(df3['Prediction'])         # Converting to Original Values\n"
   ]
  },
  {
   "cell_type": "code",
   "execution_count": 64,
   "metadata": {},
   "outputs": [
    {
     "data": {
      "text/html": [
       "<div>\n",
       "<style scoped>\n",
       "    .dataframe tbody tr th:only-of-type {\n",
       "        vertical-align: middle;\n",
       "    }\n",
       "\n",
       "    .dataframe tbody tr th {\n",
       "        vertical-align: top;\n",
       "    }\n",
       "\n",
       "    .dataframe thead th {\n",
       "        text-align: right;\n",
       "    }\n",
       "</style>\n",
       "<table border=\"1\" class=\"dataframe\">\n",
       "  <thead>\n",
       "    <tr style=\"text-align: right;\">\n",
       "      <th></th>\n",
       "      <th>Unnamed: 0</th>\n",
       "      <th>Prediction</th>\n",
       "    </tr>\n",
       "  </thead>\n",
       "  <tbody>\n",
       "    <tr>\n",
       "      <th>0</th>\n",
       "      <td>0</td>\n",
       "      <td>11118.530379</td>\n",
       "    </tr>\n",
       "    <tr>\n",
       "      <th>1</th>\n",
       "      <td>1</td>\n",
       "      <td>10403.750141</td>\n",
       "    </tr>\n",
       "    <tr>\n",
       "      <th>2</th>\n",
       "      <td>2</td>\n",
       "      <td>10011.066418</td>\n",
       "    </tr>\n",
       "    <tr>\n",
       "      <th>3</th>\n",
       "      <td>3</td>\n",
       "      <td>10254.720420</td>\n",
       "    </tr>\n",
       "    <tr>\n",
       "      <th>4</th>\n",
       "      <td>4</td>\n",
       "      <td>9726.311281</td>\n",
       "    </tr>\n",
       "  </tbody>\n",
       "</table>\n",
       "</div>"
      ],
      "text/plain": [
       "   Unnamed: 0    Prediction\n",
       "0           0  11118.530379\n",
       "1           1  10403.750141\n",
       "2           2  10011.066418\n",
       "3           3  10254.720420\n",
       "4           4   9726.311281"
      ]
     },
     "execution_count": 64,
     "metadata": {},
     "output_type": "execute_result"
    }
   ],
   "source": [
    "df3.head()"
   ]
  },
  {
   "cell_type": "code",
   "execution_count": 65,
   "metadata": {},
   "outputs": [],
   "source": [
    "df3.to_csv('Without_log_pred.csv')          # Original Values CSV"
   ]
  },
  {
   "cell_type": "markdown",
   "metadata": {},
   "source": [
    "---"
   ]
  },
  {
   "cell_type": "markdown",
   "metadata": {},
   "source": [
    "# **The End**"
   ]
  }
 ],
 "metadata": {
  "kernelspec": {
   "display_name": "Python 3.10.2 64-bit",
   "language": "python",
   "name": "python3"
  },
  "language_info": {
   "codemirror_mode": {
    "name": "ipython",
    "version": 3
   },
   "file_extension": ".py",
   "mimetype": "text/x-python",
   "name": "python",
   "nbconvert_exporter": "python",
   "pygments_lexer": "ipython3",
   "version": "3.10.2"
  },
  "orig_nbformat": 4,
  "vscode": {
   "interpreter": {
    "hash": "fbc768028c3e6ead51d9a200ddcb2ec858ae62844dcd1994729a8279be9b48f2"
   }
  }
 },
 "nbformat": 4,
 "nbformat_minor": 2
}
